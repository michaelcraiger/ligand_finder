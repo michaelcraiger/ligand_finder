{
 "cells": [
  {
   "cell_type": "markdown",
   "metadata": {},
   "source": [
    "# This notebook takes the total tmqm from https://github.com/bbskjelstad/tmqm and writes the xyz files for the complexes of interest (selected by metal) to file, where their titles are the csd_code\n"
   ]
  },
  {
   "cell_type": "code",
   "execution_count": 12,
   "metadata": {},
   "outputs": [],
   "source": [
    "\n",
    "with open(\"all_relevant_xyzs/tmQM_X2.xyz\", \"r\") as f:\n",
    "    lines = f.readlines()\n",
    "    \n"
   ]
  },
  {
   "cell_type": "code",
   "execution_count": 13,
   "metadata": {},
   "outputs": [],
   "source": [
    "num_atoms = []\n",
    "for idx, line in enumerate(lines):\n",
    "    if lines[idx+1][:5]==\"CSD_c\":\n",
    "        num_atoms.append(int(line))\n",
    "    if idx+2==len(lines):\n",
    "        break"
   ]
  },
  {
   "cell_type": "code",
   "execution_count": 14,
   "metadata": {},
   "outputs": [],
   "source": [
    "enum_counter = 0\n",
    "xyzs = []\n",
    "\n",
    "for n_at in num_atoms:\n",
    "    xyzs.append(lines[enum_counter:enum_counter+n_at+3][:-1])\n",
    "    # splits up the chunks in the text file as per the number of atoms\n",
    "    enum_counter += n_at+3"
   ]
  },
  {
   "cell_type": "markdown",
   "metadata": {},
   "source": [
    "Curious as to how many contained certain elements"
   ]
  },
  {
   "cell_type": "code",
   "execution_count": 16,
   "metadata": {},
   "outputs": [
    {
     "name": "stdout",
     "output_type": "stream",
     "text": [
      "14727\n"
     ]
    }
   ],
   "source": [
    "metals_of_interest = [\"Fe\", \"Mn\", \"Cr\", \"Ru\", \"Co\", \"Ni\", \"Cu\", \"Ir\", \"Mo\"]\n",
    "\n",
    "count = 0 \n",
    "for xyz in xyzs:\n",
    "    for m in metals_of_interest:\n",
    "        if m in xyz[1] and \"CSD_code\" in xyz[1]:\n",
    "            count +=1\n",
    "            csd_code = xyz[1].split(\"CSD_code\")[1][3:9]\n",
    "            csd_codes.append(csd_code)\n",
    "            relevant_xyzs.append(xyz)\n",
    "            with open(\"all_relevant_xyzs/{}.xyz\".format(csd_code), \"w\") as f:\n",
    "                for line in xyz:\n",
    "                    f.write(line)\n",
    "print(count)"
   ]
  },
  {
   "cell_type": "markdown",
   "metadata": {},
   "source": [
    "# Write data to file"
   ]
  },
  {
   "cell_type": "code",
   "execution_count": null,
   "metadata": {},
   "outputs": [],
   "source": [
    "csd_codes =[]\n",
    "all_relevant_xyzs = []\n",
    "for xyz in xyzs:\n",
    "    if \"CSD_code\" in xyz[1]:\n",
    "        csd_code = xyz[1].split(\"CSD_code\")[1][3:9]\n",
    "        csd_codes.append(csd_code)\n",
    "        all_relevant_xyzs.append(xyz)\n",
    "        #write to file\n",
    "        with open(\"all_relevant_xyzs/{}.xyz\".format(csd_code), \"w\") as f:\n",
    "            for line in xyz:\n",
    "                f.write(line)\n"
   ]
  },
  {
   "cell_type": "code",
   "execution_count": 11,
   "metadata": {},
   "outputs": [
    {
     "name": "stdout",
     "output_type": "stream",
     "text": [
      "86665\n"
     ]
    }
   ],
   "source": [
    "print(len(all_relevant_xyzs))"
   ]
  },
  {
   "cell_type": "code",
   "execution_count": null,
   "metadata": {},
   "outputs": [],
   "source": []
  }
 ],
 "metadata": {
  "kernelspec": {
   "display_name": "ligand_search",
   "language": "python",
   "name": "ligand_search"
  },
  "language_info": {
   "codemirror_mode": {
    "name": "ipython",
    "version": 3
   },
   "file_extension": ".py",
   "mimetype": "text/x-python",
   "name": "python",
   "nbconvert_exporter": "python",
   "pygments_lexer": "ipython3",
   "version": "3.6.13"
  }
 },
 "nbformat": 4,
 "nbformat_minor": 4
}
